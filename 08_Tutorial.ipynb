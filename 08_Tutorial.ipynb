{
 "cells": [
  {
   "cell_type": "markdown",
   "id": "b099af2f-8938-4aea-b766-ba56a219404e",
   "metadata": {},
   "source": [
    "UM MSBA - BGEN632\n",
    "\n",
    "# Week 8: Advanced Data Manipulation\n",
    "\n",
    "In the previous week, we covered approaches for filtering and querying data using various techniques. In this tutorial, we will go over how to perform advanced filtering and querying using `pandas` in Python. To start, let's set up our notebook.\n",
    "\n",
    "### Notebook Setup"
   ]
  },
  {
   "cell_type": "code",
   "execution_count": 16,
   "id": "6379881e-9414-4290-88c8-d17beb35939e",
   "metadata": {},
   "outputs": [],
   "source": [
    "# import modules\n",
    "import pandas as pd\n",
    "import os\n",
    "import numpy as np"
   ]
  },
  {
   "cell_type": "code",
   "execution_count": 18,
   "id": "f863e581-7e94-4b69-b6c8-729a2833158b",
   "metadata": {},
   "outputs": [
    {
     "data": {
      "text/plain": [
       "'/Users/obn/Documents/GitHub/UM-BGEN632/week8labs/data'"
      ]
     },
     "execution_count": 18,
     "metadata": {},
     "output_type": "execute_result"
    }
   ],
   "source": [
    "# set working directory\n",
    "os.chdir(\"/Users/obn/Documents/GitHub/UM-BGEN632/week8labs/data\")  # add your filepath\n",
    "os.getcwd()  # confirm change"
   ]
  },
  {
   "cell_type": "code",
   "execution_count": 36,
   "id": "f20f1e77-57f7-4f0a-9f49-a822af700c2d",
   "metadata": {},
   "outputs": [
    {
     "name": "stdout",
     "output_type": "stream",
     "text": [
      "<class 'pandas.core.frame.DataFrame'>\n",
      "RangeIndex: 111 entries, 0 to 110\n",
      "Data columns (total 4 columns):\n",
      " #   Column  Non-Null Count  Dtype  \n",
      "---  ------  --------------  -----  \n",
      " 0   rad     111 non-null    int64  \n",
      " 1   temp    111 non-null    int64  \n",
      " 2   wind    111 non-null    float64\n",
      " 3   ozone   111 non-null    int64  \n",
      "dtypes: float64(1), int64(3)\n",
      "memory usage: 3.6 KB\n"
     ]
    }
   ],
   "source": [
    "# load data\n",
    "ozone_df = pd.read_table(\"ozone.data.txt\")\n",
    "ozone_df.info()  # quick inspect"
   ]
  },
  {
   "cell_type": "markdown",
   "id": "ef23212e-a9c6-4f1d-b7f2-5ad4ce86aa00",
   "metadata": {},
   "source": [
    "## Advanced Data Manipulation in Python\n",
    "Many of the operations found in pandas mimic those found in R's [tidyverse library](https://www.tidyverse.org/). For example, pandas provides close equivalents to the functions provided in dplyr (a core tidyverse package) which is designed to support data wrangling tasks:\n",
    "\n",
    "| `dplyr` | `pandas` |\n",
    "|:---:|:---:|\n",
    "| select | [filter](https://pandas.pydata.org/pandas-docs/stable/reference/api/pandas.DataFrame.filter.html) |\n",
    "| filter | [query](https://pandas.pydata.org/pandas-docs/stable/reference/api/pandas.DataFrame.query.html) |\n",
    "| arrange | [sort_values](https://pandas.pydata.org/pandas-docs/stable/reference/api/pandas.DataFrame.sort_values.html) |\n",
    "| mutate | [assign](https://pandas.pydata.org/pandas-docs/stable/reference/api/pandas.DataFrame.assign.html) |\n",
    "| rename | [rename](https://pandas.pydata.org/pandas-docs/stable/reference/api/pandas.DataFrame.rename.html) |\n",
    "| summarize | [agg](https://pandas.pydata.org/pandas-docs/stable/reference/api/pandas.DataFrame.agg.html) |\n",
    "| group_by | [groupby](https://pandas.pydata.org/pandas-docs/stable/reference/api/pandas.DataFrame.groupby.html) |\n",
    "\n",
    "<br><br>\n",
    "In addition to these functions, another similarity includes using *pipes* as shortcuts. Piping provides the output of the previous line of code as input into the next line of code. Piping is useful for organizing multiple lines of code that should be run in sequence.\n",
    "\n",
    "For those familiar with R, we can use piping `%>%` to create streamlined, simple code like so:\n",
    "\n",
    "```R\n",
    "ozone_df %>% \n",
    "    select(rad, temp, wind) %>%  # select desired columns\n",
    "    filter(wind == 6.3) %>%  # keep rows based on condition\n",
    "    head()  # display first n rows\n",
    "```\n",
    "\n",
    "In the code above, the output for each line is passed to the line below it. The advantage is the *lack of a need to assign the output to a variable*. Remember, assigning a value to a variable is one of the most fundamental aspects of programming. This reduces the complexity of code, the amount of text we type, and creates a clean appearance.\n",
    "\n",
    "The equivalent code in Python is provided in the cell below. "
   ]
  },
  {
   "cell_type": "code",
   "execution_count": 49,
   "id": "1e2a9180-5f41-4f72-a094-c4c7aa721898",
   "metadata": {},
   "outputs": [
    {
     "data": {
      "text/html": [
       "<div>\n",
       "<style scoped>\n",
       "    .dataframe tbody tr th:only-of-type {\n",
       "        vertical-align: middle;\n",
       "    }\n",
       "\n",
       "    .dataframe tbody tr th {\n",
       "        vertical-align: top;\n",
       "    }\n",
       "\n",
       "    .dataframe thead th {\n",
       "        text-align: right;\n",
       "    }\n",
       "</style>\n",
       "<table border=\"1\" class=\"dataframe\">\n",
       "  <thead>\n",
       "    <tr style=\"text-align: right;\">\n",
       "      <th></th>\n",
       "      <th>rad</th>\n",
       "      <th>temp</th>\n",
       "      <th>wind</th>\n",
       "    </tr>\n",
       "  </thead>\n",
       "  <tbody>\n",
       "    <tr>\n",
       "      <th>39</th>\n",
       "      <td>267</td>\n",
       "      <td>92</td>\n",
       "      <td>6.3</td>\n",
       "    </tr>\n",
       "    <tr>\n",
       "      <th>47</th>\n",
       "      <td>285</td>\n",
       "      <td>84</td>\n",
       "      <td>6.3</td>\n",
       "    </tr>\n",
       "    <tr>\n",
       "      <th>69</th>\n",
       "      <td>51</td>\n",
       "      <td>79</td>\n",
       "      <td>6.3</td>\n",
       "    </tr>\n",
       "    <tr>\n",
       "      <th>80</th>\n",
       "      <td>237</td>\n",
       "      <td>96</td>\n",
       "      <td>6.3</td>\n",
       "    </tr>\n",
       "    <tr>\n",
       "      <th>81</th>\n",
       "      <td>188</td>\n",
       "      <td>94</td>\n",
       "      <td>6.3</td>\n",
       "    </tr>\n",
       "  </tbody>\n",
       "</table>\n",
       "</div>"
      ],
      "text/plain": [
       "    rad  temp  wind\n",
       "39  267    92   6.3\n",
       "47  285    84   6.3\n",
       "69   51    79   6.3\n",
       "80  237    96   6.3\n",
       "81  188    94   6.3"
      ]
     },
     "execution_count": 49,
     "metadata": {},
     "output_type": "execute_result"
    }
   ],
   "source": [
    "(ozone_df\n",
    ".filter([\"rad\", \"temp\", \"wind\"])  # select desired columns\n",
    ".query(\"wind == 6.3\")  # keep rows based on condition\n",
    ".head()  # display first n rows\n",
    ")"
   ]
  },
  {
   "cell_type": "markdown",
   "id": "ccc3cee3-9cd9-4b82-83d8-74c039c07a0a",
   "metadata": {},
   "source": [
    "You can see the similarities between the R code and Python code above. Note that we wrapped the entire Python code in parentheses `()` because otherwise we would need to place a backslash at the end of each line like so:\n",
    "\n",
    "```Python\n",
    "ozone_df \\\n",
    ".filter([\"rad\", \"temp\", \"wind\"]) \\\n",
    ".query(\"wind == 6.3\") \\\n",
    ".head() \n",
    "```\n",
    "\n",
    "Another difference between pandas and tidyverse: lots of (single or double) quotes. Unlike tidyverse, which attempts to use as few quotes as possible, pandas relies on the underlying Python base which forces the use of quotes here. Could the pandas programmers have changed that? Sure. Yet, it does keep things Pythonic.\n",
    "\n",
    "Let's use a different example that adds in more complexity. Here is an example with R code:\n",
    "\n",
    "```R\n",
    "ozone_data %>% \n",
    "    select(rad, temp, wind) %>%  # select desired columns\n",
    "    filter(temp %in% 62:90) %>%  # keep rows based on value in specified range\n",
    "    mutate(rad_wind = rad * wind) %>%  # create a new column based on mathematical operation applied to two other columns\n",
    "    arrange(desc(rad_wind)) %>%  # sort the data largest to smallest based on value in new column\n",
    "    head()  # display first n rows\n",
    "```\n",
    "\n",
    "Okay, now we'll convert the above example over to Python:"
   ]
  },
  {
   "cell_type": "code",
   "execution_count": 67,
   "id": "9c7a5d01-a93f-4ea7-b638-a47943c325e4",
   "metadata": {},
   "outputs": [
    {
     "data": {
      "text/html": [
       "<div>\n",
       "<style scoped>\n",
       "    .dataframe tbody tr th:only-of-type {\n",
       "        vertical-align: middle;\n",
       "    }\n",
       "\n",
       "    .dataframe tbody tr th {\n",
       "        vertical-align: top;\n",
       "    }\n",
       "\n",
       "    .dataframe thead th {\n",
       "        text-align: right;\n",
       "    }\n",
       "</style>\n",
       "<table border=\"1\" class=\"dataframe\">\n",
       "  <thead>\n",
       "    <tr style=\"text-align: right;\">\n",
       "      <th></th>\n",
       "      <th>rad</th>\n",
       "      <th>temp</th>\n",
       "      <th>wind</th>\n",
       "      <th>rad_wind</th>\n",
       "    </tr>\n",
       "  </thead>\n",
       "  <tbody>\n",
       "    <tr>\n",
       "      <th>29</th>\n",
       "      <td>284</td>\n",
       "      <td>72</td>\n",
       "      <td>20.7</td>\n",
       "      <td>5878.8</td>\n",
       "    </tr>\n",
       "    <tr>\n",
       "      <th>17</th>\n",
       "      <td>320</td>\n",
       "      <td>73</td>\n",
       "      <td>16.6</td>\n",
       "      <td>5312.0</td>\n",
       "    </tr>\n",
       "    <tr>\n",
       "      <th>25</th>\n",
       "      <td>291</td>\n",
       "      <td>90</td>\n",
       "      <td>13.8</td>\n",
       "      <td>4015.8</td>\n",
       "    </tr>\n",
       "    <tr>\n",
       "      <th>73</th>\n",
       "      <td>259</td>\n",
       "      <td>77</td>\n",
       "      <td>15.5</td>\n",
       "      <td>4014.5</td>\n",
       "    </tr>\n",
       "    <tr>\n",
       "      <th>93</th>\n",
       "      <td>259</td>\n",
       "      <td>76</td>\n",
       "      <td>15.5</td>\n",
       "      <td>4014.5</td>\n",
       "    </tr>\n",
       "    <tr>\n",
       "      <th>11</th>\n",
       "      <td>334</td>\n",
       "      <td>64</td>\n",
       "      <td>11.5</td>\n",
       "      <td>3841.0</td>\n",
       "    </tr>\n",
       "  </tbody>\n",
       "</table>\n",
       "</div>"
      ],
      "text/plain": [
       "    rad  temp  wind  rad_wind\n",
       "29  284    72  20.7    5878.8\n",
       "17  320    73  16.6    5312.0\n",
       "25  291    90  13.8    4015.8\n",
       "73  259    77  15.5    4014.5\n",
       "93  259    76  15.5    4014.5\n",
       "11  334    64  11.5    3841.0"
      ]
     },
     "execution_count": 67,
     "metadata": {},
     "output_type": "execute_result"
    }
   ],
   "source": [
    "l = list(range(62, 91))  # create a range that we will use later for selecting rows\n",
    "\n",
    "(ozone_df\n",
    ".filter(['rad','temp','wind'])  # select desired columns\n",
    ".query('temp in @l')  # keep rows based on value in specified range\n",
    ".assign(rad_wind = ozone_df.rad * ozone_df.wind)  # create a new column based on mathematical operation applied to two other columns\n",
    ".sort_values(by = ('rad_wind'), ascending = False) # sort the data largest to smallest based on value in new column\n",
    ".head(6)  # display first n rows\n",
    ")"
   ]
  },
  {
   "cell_type": "code",
   "execution_count": null,
   "id": "3dc79fe0-83ff-4e47-bf1f-41edd458b693",
   "metadata": {},
   "outputs": [],
   "source": []
  }
 ],
 "metadata": {
  "kernelspec": {
   "display_name": "Python [conda env:base] *",
   "language": "python",
   "name": "conda-base-py"
  },
  "language_info": {
   "codemirror_mode": {
    "name": "ipython",
    "version": 3
   },
   "file_extension": ".py",
   "mimetype": "text/x-python",
   "name": "python",
   "nbconvert_exporter": "python",
   "pygments_lexer": "ipython3",
   "version": "3.12.2"
  }
 },
 "nbformat": 4,
 "nbformat_minor": 5
}
